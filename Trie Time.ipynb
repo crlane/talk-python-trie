{
 "cells": [
  {
   "cell_type": "markdown",
   "metadata": {
    "slideshow": {
     "slide_type": "slide"
    }
   },
   "source": [
    "# Trie Time\n",
    "\n",
    "Python's `defaultdict`, Efficient Membership Tests, and Grouping Words By Prefix"
   ]
  },
  {
   "cell_type": "markdown",
   "metadata": {
    "slideshow": {
     "slide_type": "slide"
    }
   },
   "source": [
    "## Dictionaries All the Way Down\n",
    "\n",
    "![Don't Get Munsoned](resources/dictionary_salesman.jpg)"
   ]
  },
  {
   "cell_type": "markdown",
   "metadata": {
    "slideshow": {
     "slide_type": "slide"
    }
   },
   "source": [
    "## `KeyError`s are Annoying"
   ]
  },
  {
   "cell_type": "code",
   "execution_count": 3,
   "metadata": {
    "collapsed": false,
    "slideshow": {
     "slide_type": "fragment"
    }
   },
   "outputs": [
    {
     "name": "stdout",
     "output_type": "stream",
     "text": [
      ":sadpanda: {'flan': {}}\n"
     ]
    }
   ],
   "source": [
    "d = {}\n",
    "d['flan'] = {}\n",
    "try:\n",
    "   d['bender']\n",
    "except KeyError:\n",
    "    print \":sadpanda:\", d"
   ]
  },
  {
   "cell_type": "markdown",
   "metadata": {
    "slideshow": {
     "slide_type": "slide"
    }
   },
   "source": [
    "# `setdefault` and `defaultdict`"
   ]
  },
  {
   "cell_type": "code",
   "execution_count": 4,
   "metadata": {
    "collapsed": false,
    "slideshow": {
     "slide_type": "fragment"
    }
   },
   "outputs": [
    {
     "name": "stdout",
     "output_type": "stream",
     "text": [
      "[] {'nibbler': {'leela': 'why not zoidberg'}, 'bender': []}\n"
     ]
    }
   ],
   "source": [
    "sd = {}\n",
    "a = sd.setdefault('bender', [])\n",
    "sd.setdefault('nibbler', {})['leela'] = 'why not zoidberg'\n",
    "print a, sd"
   ]
  },
  {
   "cell_type": "code",
   "execution_count": 5,
   "metadata": {
    "collapsed": false,
    "slideshow": {
     "slide_type": "fragment"
    }
   },
   "outputs": [
    {
     "name": "stdout",
     "output_type": "stream",
     "text": [
      ":sadpanda: defaultdict(<type 'dict'>, {1: {2: 3}, 4: {}})\n"
     ]
    }
   ],
   "source": [
    "from collections import defaultdict\n",
    "dd = defaultdict(dict)\n",
    "dd[1][2] = 3\n",
    "try:\n",
    "    dd[4][5]\n",
    "except KeyError:\n",
    "    print \":sadpanda:\", dd"
   ]
  },
  {
   "cell_type": "code",
   "execution_count": 6,
   "metadata": {
    "collapsed": false,
    "slideshow": {
     "slide_type": "fragment"
    }
   },
   "outputs": [
    {
     "name": "stdout",
     "output_type": "stream",
     "text": [
      ":sadpanda: defaultdict(<function <lambda> at 0x10ab87410>, {3: defaultdict(<type 'dict'>, {4: {}})})\n"
     ]
    }
   ],
   "source": [
    "dd_callable = defaultdict(lambda: defaultdict(dict))\n",
    "try:\n",
    "    dd_callable[3][4][5]\n",
    "except KeyError:\n",
    "    print \":sadpanda:\", dd_callable"
   ]
  },
  {
   "cell_type": "markdown",
   "metadata": {
    "slideshow": {
     "slide_type": "slide"
    }
   },
   "source": [
    "# Yo Dawg\n",
    "![xzibit](resources/yo_dawg.jpg)"
   ]
  },
  {
   "cell_type": "code",
   "execution_count": 7,
   "metadata": {
    "collapsed": false,
    "slideshow": {
     "slide_type": "subslide"
    }
   },
   "outputs": [
    {
     "name": "stdout",
     "output_type": "stream",
     "text": [
      "{'x': defaultdict(<function infinite_defaultdict at 0x10ab87320>, {'y': defaultdict(<function infinite_defaultdict at 0x10ab87320>, {'z': defaultdict(<function infinite_defaultdict at 0x10ab87320>, {'a': defaultdict(<function infinite_defaultdict at 0x10ab87320>, {'b': defaultdict(<function infinite_defaultdict at 0x10ab87320>, {'c': defaultdict(<function infinite_defaultdict at 0x10ab87320>, {})})})})})})}\n"
     ]
    }
   ],
   "source": [
    "def infinite_defaultdict():\n",
    "    return defaultdict(infinite_defaultdict)\n",
    "idd = infinite_defaultdict()\n",
    "idd['x']['y']['z']['a']['b']['c']\n",
    "print dict(idd)"
   ]
  },
  {
   "cell_type": "markdown",
   "metadata": {
    "slideshow": {
     "slide_type": "slide"
    }
   },
   "source": [
    "# Re'trie'val\n",
    "\n",
    "- a trie is a tree that stores items with a common prefix on the same branch\n",
    "- Fast lookups with recursion\n",
    "  - Max width (number of possible letters + 1)\n",
    "  - Max height (longest word + 1)\n",
    "- Answers some 'hard' questions really easily (autocomplete)\n",
    "![trie](resources/trie.png)"
   ]
  },
  {
   "cell_type": "markdown",
   "metadata": {
    "slideshow": {
     "slide_type": "slide"
    }
   },
   "source": [
    "# Portmanteaus are cool\n",
    "\n",
    "- `defaultdictrie`"
   ]
  },
  {
   "cell_type": "code",
   "execution_count": 8,
   "metadata": {
    "collapsed": true,
    "slideshow": {
     "slide_type": "fragment"
    }
   },
   "outputs": [],
   "source": [
    "import io\n",
    "import sys\n",
    "\n",
    "def TrieNode():\n",
    "    return defaultdict(TrieNode)\n",
    "\n",
    "def add_word(word, node):\n",
    "    if not word:\n",
    "        node[None] = None\n",
    "        return\n",
    "    add_word(word[1:], node[word[0]])\n",
    "    \n",
    "def exists(word, node):\n",
    "    if not word:\n",
    "        return None in node\n",
    "    return exists(word[1:], node[word[0]])"
   ]
  },
  {
   "cell_type": "code",
   "execution_count": 9,
   "metadata": {
    "collapsed": false,
    "slideshow": {
     "slide_type": "subslide"
    }
   },
   "outputs": [],
   "source": [
    "root = TrieNode()\n",
    "wordfile = 'wordlist.txt' # http://codekata.com/kata/kata06-anagrams/\n",
    "word_list = []\n",
    "\n",
    "with io.open(wordfile, encoding='latin-1') as wf:\n",
    "    for line in wf:\n",
    "        word = line.strip()\n",
    "        word_list.append(word)\n",
    "        add_word(word, root)\n",
    "word_set = set(word_list)"
   ]
  },
  {
   "cell_type": "code",
   "execution_count": 10,
   "metadata": {
    "collapsed": false,
    "slideshow": {
     "slide_type": "slide"
    }
   },
   "outputs": [
    {
     "data": {
      "text/plain": [
       "[u'casting',\n",
       " u'castings',\n",
       " u'castigate',\n",
       " u\"casting's\",\n",
       " u'castigates',\n",
       " u'castigated',\n",
       " u'castigator',\n",
       " u'castigation',\n",
       " u'castigating',\n",
       " u'castigatory',\n",
       " u'castigators',\n",
       " u'castigations',\n",
       " u\"castigator's\",\n",
       " u\"castigation's\"]"
      ]
     },
     "execution_count": 10,
     "metadata": {},
     "output_type": "execute_result"
    }
   ],
   "source": [
    "def _path(node, path=''):\n",
    "    # DFS, basically\n",
    "    for k, v in node.iteritems():\n",
    "        if k is None:\n",
    "            yield path\n",
    "            continue\n",
    "        new_path = ''.join((path, k))\n",
    "        for p in _path(v, new_path):\n",
    "            yield p\n",
    "\n",
    "def find_words_with_prefix(prefix, node):\n",
    "    \n",
    "    original = prefix\n",
    "    # find the start node\n",
    "    while prefix:\n",
    "        node = node[prefix[0]]\n",
    "        prefix = prefix[1:]\n",
    "        \n",
    "    for path in _path(node, original):\n",
    "        yield path\n",
    "            \n",
    "PREFIX_TO_FIND = 'casti'        \n",
    "sorted(find_words_with_prefix(PREFIX_TO_FIND, root), key=len)"
   ]
  },
  {
   "cell_type": "markdown",
   "metadata": {
    "slideshow": {
     "slide_type": "subslide"
    }
   },
   "source": [
    "## Are we sure it's correct?"
   ]
  },
  {
   "cell_type": "code",
   "execution_count": 11,
   "metadata": {
    "collapsed": true,
    "slideshow": {
     "slide_type": "fragment"
    }
   },
   "outputs": [],
   "source": [
    "def find_words_in_container_with_prefix(prefix, container):\n",
    "    for word in container:\n",
    "        if word.startswith(prefix):\n",
    "            yield word"
   ]
  },
  {
   "cell_type": "code",
   "execution_count": 12,
   "metadata": {
    "collapsed": false,
    "slideshow": {
     "slide_type": "fragment"
    }
   },
   "outputs": [],
   "source": [
    "list_from_a = sorted(find_words_in_container_with_prefix(PREFIX_TO_FIND, word_list))\n",
    "list_from_b = sorted(find_words_with_prefix(PREFIX_TO_FIND, root))\n",
    "assert list_from_a == list_from_b"
   ]
  },
  {
   "cell_type": "markdown",
   "metadata": {
    "slideshow": {
     "slide_type": "slide"
    }
   },
   "source": [
    "# Why use this?\n",
    "\n",
    "![but why](resources/but_why.gif)"
   ]
  },
  {
   "cell_type": "markdown",
   "metadata": {
    "slideshow": {
     "slide_type": "fragment"
    }
   },
   "source": [
    "- membership tests are much faster than list, slightly slower than set\n",
    "  - lookups are `O(m)`, where `m` is the number of letters in the word\n",
    "- find all words that start with 'cat'\n",
    "  - much faster than naive solutions, though there is a memory cost"
   ]
  },
  {
   "cell_type": "markdown",
   "metadata": {
    "slideshow": {
     "slide_type": "slide"
    }
   },
   "source": [
    "### Membership Test Performance"
   ]
  },
  {
   "cell_type": "code",
   "execution_count": 13,
   "metadata": {
    "collapsed": false,
    "slideshow": {
     "slide_type": "fragment"
    }
   },
   "outputs": [],
   "source": [
    "s = 'castigate'\n",
    "assert exists(s, root) and s in word_list and s in word_set"
   ]
  },
  {
   "cell_type": "code",
   "execution_count": 14,
   "metadata": {
    "collapsed": false,
    "slideshow": {
     "slide_type": "fragment"
    }
   },
   "outputs": [
    {
     "name": "stdout",
     "output_type": "stream",
     "text": [
      "100 loops, best of 3: 7.43 ms per loop\n"
     ]
    }
   ],
   "source": [
    "%timeit s in word_list"
   ]
  },
  {
   "cell_type": "code",
   "execution_count": 15,
   "metadata": {
    "collapsed": false,
    "scrolled": true,
    "slideshow": {
     "slide_type": "fragment"
    }
   },
   "outputs": [
    {
     "name": "stdout",
     "output_type": "stream",
     "text": [
      "The slowest run took 25.34 times longer than the fastest. This could mean that an intermediate result is being cached.\n",
      "10000000 loops, best of 3: 160 ns per loop\n"
     ]
    }
   ],
   "source": [
    "%timeit s in word_set"
   ]
  },
  {
   "cell_type": "code",
   "execution_count": 16,
   "metadata": {
    "collapsed": false,
    "slideshow": {
     "slide_type": "fragment"
    }
   },
   "outputs": [
    {
     "name": "stdout",
     "output_type": "stream",
     "text": [
      "100000 loops, best of 3: 2.66 µs per loop\n"
     ]
    }
   ],
   "source": [
    "%timeit exists(s, root)"
   ]
  },
  {
   "cell_type": "code",
   "execution_count": 17,
   "metadata": {
    "collapsed": false,
    "slideshow": {
     "slide_type": "fragment"
    }
   },
   "outputs": [
    {
     "name": "stdout",
     "output_type": "stream",
     "text": [
      "The slowest run took 4.31 times longer than the fastest. This could mean that an intermediate result is being cached.\n",
      "1000000 loops, best of 3: 941 ns per loop\n"
     ]
    }
   ],
   "source": [
    "%timeit exists('cat', root)"
   ]
  },
  {
   "cell_type": "code",
   "execution_count": 18,
   "metadata": {
    "collapsed": false,
    "slideshow": {
     "slide_type": "fragment"
    }
   },
   "outputs": [
    {
     "name": "stdout",
     "output_type": "stream",
     "text": [
      "The slowest run took 5.82 times longer than the fastest. This could mean that an intermediate result is being cached.\n",
      "1000000 loops, best of 3: 1.89 µs per loop\n"
     ]
    }
   ],
   "source": [
    "%timeit exists('flargle', root)"
   ]
  },
  {
   "cell_type": "code",
   "execution_count": 19,
   "metadata": {
    "collapsed": false,
    "slideshow": {
     "slide_type": "fragment"
    }
   },
   "outputs": [
    {
     "name": "stdout",
     "output_type": "stream",
     "text": [
      "The slowest run took 42.89 times longer than the fastest. This could mean that an intermediate result is being cached.\n",
      "10000000 loops, best of 3: 44.5 ns per loop\n"
     ]
    }
   ],
   "source": [
    "%timeit 'flargle' in word_set"
   ]
  },
  {
   "cell_type": "code",
   "execution_count": 20,
   "metadata": {
    "collapsed": false,
    "slideshow": {
     "slide_type": "slide"
    }
   },
   "outputs": [
    {
     "name": "stdout",
     "output_type": "stream",
     "text": [
      "Populating the interactive namespace from numpy and matplotlib\n"
     ]
    }
   ],
   "source": [
    "%pylab inline\n",
    "import bisect\n",
    "\n",
    "funcs = dict(List=lambda x: x in word_list, \n",
    "             Set=lambda x: x in word_set,\n",
    "             Trie=lambda x: exists(x, root), ListBinSearch=lambda x: bisect.bisect(word_list, x))\n",
    "values = sorted([w for w in find_words_with_prefix('cast', root) if \"'\" not in w], key=len)\n",
    "\n",
    "data = defaultdict(lambda : defaultdict(list))\n",
    "for name, func in funcs.iteritems():\n",
    "    seen = set()\n",
    "    for v in values:\n",
    "        x = len(v)\n",
    "        if x in seen:\n",
    "            continue\n",
    "        seen.add(x)\n",
    "        y = %timeit -n1000 -q -o func(v)\n",
    "        data[name]['x'].append(x)\n",
    "        data[name]['y'].append(y.best)"
   ]
  },
  {
   "cell_type": "code",
   "execution_count": 21,
   "metadata": {
    "collapsed": false,
    "slideshow": {
     "slide_type": "subslide"
    }
   },
   "outputs": [
    {
     "data": {
      "image/png": "[encoded data removed]",
      "text/plain": [
       "<matplotlib.figure.Figure at 0x11a29aed0>"
      ]
     },
     "metadata": {},
     "output_type": "display_data"
    }
   ],
   "source": [
    "fig, ax = subplots()\n",
    "for i, (k, v) in enumerate(data.iteritems()):\n",
    "    plot(v['x'], v['y'], label=k)   \n",
    "ax.legend()\n",
    "ax.set_xlabel(\"word length\")\n",
    "ax.set_ylabel(\"time\")\n",
    "ax.set_title(\"Membership Test Performance vs Word Length\")\n",
    "ax.grid(True)"
   ]
  },
  {
   "cell_type": "code",
   "execution_count": 22,
   "metadata": {
    "collapsed": false,
    "slideshow": {
     "slide_type": "subslide"
    }
   },
   "outputs": [
    {
     "data": {
      "image/png": "[encoded data removed]",
      "text/plain": [
       "<matplotlib.figure.Figure at 0x11c2e8e90>"
      ]
     },
     "metadata": {},
     "output_type": "display_data"
    }
   ],
   "source": [
    "fig, ax = subplots()\n",
    "for i, (k, v) in enumerate(data.iteritems()):\n",
    "    if k == 'List':\n",
    "        continue\n",
    "    plot(v['x'], v['y'], label=k)    \n",
    "ax.legend()\n",
    "ax.set_xlabel(\"word length\")\n",
    "ax.set_ylabel(\"time\")\n",
    "ax.set_title(\"Membership Test Performance vs Word Length\")\n",
    "ax.grid(True)"
   ]
  },
  {
   "cell_type": "markdown",
   "metadata": {
    "slideshow": {
     "slide_type": "slide"
    }
   },
   "source": [
    "### Find Word with Prefix Performance"
   ]
  },
  {
   "cell_type": "code",
   "execution_count": 23,
   "metadata": {
    "collapsed": false,
    "slideshow": {
     "slide_type": "fragment"
    }
   },
   "outputs": [
    {
     "name": "stdout",
     "output_type": "stream",
     "text": [
      "10 loops, best of 3: 81.7 ms per loop\n"
     ]
    }
   ],
   "source": [
    "%timeit list(find_words_in_container_with_prefix(PREFIX_TO_FIND, word_list))"
   ]
  },
  {
   "cell_type": "code",
   "execution_count": 24,
   "metadata": {
    "collapsed": false,
    "slideshow": {
     "slide_type": "fragment"
    }
   },
   "outputs": [
    {
     "name": "stdout",
     "output_type": "stream",
     "text": [
      "10 loops, best of 3: 152 ms per loop\n"
     ]
    }
   ],
   "source": [
    "%timeit list(find_words_in_container_with_prefix(PREFIX_TO_FIND, word_set))"
   ]
  },
  {
   "cell_type": "code",
   "execution_count": 25,
   "metadata": {
    "collapsed": false,
    "slideshow": {
     "slide_type": "fragment"
    }
   },
   "outputs": [
    {
     "name": "stdout",
     "output_type": "stream",
     "text": [
      "10000 loops, best of 3: 23.4 µs per loop\n"
     ]
    }
   ],
   "source": [
    "%timeit list(find_words_with_prefix(PREFIX_TO_FIND, root))"
   ]
  },
  {
   "cell_type": "code",
   "execution_count": 26,
   "metadata": {
    "collapsed": false,
    "slideshow": {
     "slide_type": "subslide"
    }
   },
   "outputs": [
    {
     "data": {
      "image/png": "[encoded data removed]",
      "text/plain": [
       "<matplotlib.figure.Figure at 0x11c3618d0>"
      ]
     },
     "metadata": {},
     "output_type": "display_data"
    }
   ],
   "source": [
    "funcs = dict(List=lambda x:list(find_words_in_container_with_prefix(x, word_list)),\n",
    "             Set=lambda x: list(find_words_in_container_with_prefix(x, word_set)),\n",
    "             Trie=lambda x: list(find_words_with_prefix(x, root)))\n",
    "values = ['c', 'ca', 'cat', 'cast', 'csfkjf']\n",
    "ind = np.arange(len(values))\n",
    "width = 0.30\n",
    "fig, ax = subplots()\n",
    "for i, name in enumerate(['Trie', 'List', 'Set']):\n",
    "    y = []\n",
    "    for v in values:\n",
    "        t = %timeit -n10 -q -o funcs[name](v)\n",
    "        y.append(t.best)\n",
    "    bar(ind + (i*width), y, width, color='rgb'[i], label=name)\n",
    "ax.legend()\n",
    "ax.set_ylabel('Time')\n",
    "ax.set_title('Time to Find Words Containing Prefix')\n",
    "ticks = ax.set_xticks(ind + (width * len(funcs) / 2.0))\n",
    "labels = ax.set_xticklabels(values)"
   ]
  },
  {
   "cell_type": "markdown",
   "metadata": {
    "slideshow": {
     "slide_type": "subslide"
    }
   },
   "source": [
    "## Measuring Memory\n",
    "\n",
    "- NOT space efficient\n",
    "- somewhat misleading\n",
    "- harder to measure"
   ]
  },
  {
   "cell_type": "code",
   "execution_count": 27,
   "metadata": {
    "collapsed": false,
    "slideshow": {
     "slide_type": "fragment"
    }
   },
   "outputs": [
    {
     "data": {
      "text/plain": [
       "(57, 338882, 338882)"
      ]
     },
     "execution_count": 27,
     "metadata": {},
     "output_type": "execute_result"
    }
   ],
   "source": [
    "len(root), len(word_list), len(word_set)"
   ]
  },
  {
   "cell_type": "code",
   "execution_count": 28,
   "metadata": {
    "collapsed": false,
    "slideshow": {
     "slide_type": "fragment"
    }
   },
   "outputs": [
    {
     "data": {
      "text/plain": [
       "(3352, 3012912, 8388840)"
      ]
     },
     "execution_count": 28,
     "metadata": {},
     "output_type": "execute_result"
    }
   ],
   "source": [
    "sys.getsizeof(root), sys.getsizeof(word_list), sys.getsizeof(word_set)"
   ]
  },
  {
   "cell_type": "code",
   "execution_count": 29,
   "metadata": {
    "collapsed": false,
    "slideshow": {
     "slide_type": "subslide"
    }
   },
   "outputs": [
    {
     "name": "stdout",
     "output_type": "stream",
     "text": [
      "9.20367266482 60\n"
     ]
    },
    {
     "data": {
      "text/plain": [
       "11463840"
      ]
     },
     "execution_count": 29,
     "metadata": {},
     "output_type": "execute_result"
    }
   ],
   "source": [
    "AVERAGE_WORD_LENGTH = sum(len(w) for w in word_list) * 1.0 / len(word_list)\n",
    "LONGEST_WORD = max(len(w) for w in word_list)\n",
    "print AVERAGE_WORD_LENGTH, LONGEST_WORD\n",
    "sys.getsizeof(root) * len(root) * LONGEST_WORD"
   ]
  },
  {
   "cell_type": "code",
   "execution_count": 31,
   "metadata": {
    "collapsed": false,
    "slideshow": {
     "slide_type": "fragment"
    }
   },
   "outputs": [
    {
     "name": "stdout",
     "output_type": "stream",
     "text": [
      "233391968 61 61\n"
     ]
    }
   ],
   "source": [
    "max_depth = 0\n",
    "max_width = 0\n",
    "def rec_size_of(d, depth=0, width=0):\n",
    "    global max_depth, max_width\n",
    "    max_depth = max(depth, max_depth)\n",
    "    max_width = max(width, max_width)\n",
    "    if d is None:\n",
    "        return sys.getsizeof(d)\n",
    "    return sys.getsizeof(d) + sum(rec_size_of(v, depth + 1, width+1)\n",
    "                                  for v in d.itervalues())\n",
    "\n",
    "print rec_size_of(root), max_depth, max_width"
   ]
  },
  {
   "cell_type": "code",
   "execution_count": 32,
   "metadata": {
    "collapsed": false,
    "slideshow": {
     "slide_type": "fragment"
    }
   },
   "outputs": [
    {
     "name": "stdout",
     "output_type": "stream",
     "text": [
      "6735224 17431299 -10696075\n"
     ]
    }
   ],
   "source": [
    "import cPickle as pickle\n",
    "set_string = pickle.dumps(word_set)\n",
    "trie_string = pickle.dumps(root)\n",
    "a, b = sys.getsizeof(set_string), sys.getsizeof(trie_string)\n",
    "print a, b, a - b"
   ]
  },
  {
   "cell_type": "code",
   "execution_count": null,
   "metadata": {
    "collapsed": true
   },
   "outputs": [],
   "source": []
  }
 ],
 "metadata": {
  "celltoolbar": "Slideshow",
  "kernelspec": {
   "display_name": "Python 2",
   "language": "python",
   "name": "python2"
  },
  "language_info": {
   "codemirror_mode": {
    "name": "ipython",
    "version": 2
   },
   "file_extension": ".py",
   "mimetype": "text/x-python",
   "name": "python",
   "nbconvert_exporter": "python",
   "pygments_lexer": "ipython2",
   "version": "2.7.10"
  }
 },
 "nbformat": 4,
 "nbformat_minor": 0
}
